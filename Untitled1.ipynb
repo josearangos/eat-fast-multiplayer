{
 "cells": [
  {
   "cell_type": "code",
   "execution_count": 1,
   "metadata": {},
   "outputs": [],
   "source": [
    "import random"
   ]
  },
  {
   "cell_type": "code",
   "execution_count": 17,
   "metadata": {},
   "outputs": [],
   "source": [
    "def generate_circles(circles_info,n_balls,width,height):\n",
    "    \n",
    "    random.seed(30)\n",
    "    for i in range(n_balls):\n",
    "        x = random.uniform(1,width)\n",
    "        y = random.uniform(1,height / 3)\n",
    "        cc = [ random.randint(0,255),random.randint(0,255),255]\n",
    "        s = random.randint(1,3)\n",
    "        circles_info.append({\"s\":s,\"cc\":cc,\"y\":y,\"x\":x})\n",
    "        \n",
    "    return circles_info"
   ]
  },
  {
   "cell_type": "code",
   "execution_count": 18,
   "metadata": {},
   "outputs": [],
   "source": [
    "circles = []"
   ]
  },
  {
   "cell_type": "code",
   "execution_count": 22,
   "metadata": {},
   "outputs": [],
   "source": [
    "circles = generate_circles(circles,10,400,500)"
   ]
  },
  {
   "cell_type": "code",
   "execution_count": 23,
   "metadata": {},
   "outputs": [
    {
     "data": {
      "text/plain": [
       "20"
      ]
     },
     "execution_count": 23,
     "metadata": {},
     "output_type": "execute_result"
    }
   ],
   "source": [
    "len(circles)"
   ]
  },
  {
   "cell_type": "code",
   "execution_count": 24,
   "metadata": {},
   "outputs": [
    {
     "data": {
      "text/plain": [
       "[{'s': 2,\n",
       "  'cc': [15, 107, 255],\n",
       "  'y': 48.91021082964703,\n",
       "  'x': 216.09354427771842},\n",
       " {'s': 2,\n",
       "  'cc': [68, 41, 255],\n",
       "  'y': 63.32033697233682,\n",
       "  'x': 20.341923449055148},\n",
       " {'s': 1,\n",
       "  'cc': [124, 13, 255],\n",
       "  'y': 87.5374259633528,\n",
       "  'x': 4.0350643873253205},\n",
       " {'s': 3,\n",
       "  'cc': [205, 178, 255],\n",
       "  'y': 151.51426905250958,\n",
       "  'x': 399.95810506344213},\n",
       " {'s': 2,\n",
       "  'cc': [127, 143, 255],\n",
       "  'y': 67.50049714417382,\n",
       "  'x': 352.9459113626538},\n",
       " {'s': 2,\n",
       "  'cc': [57, 253, 255],\n",
       "  'y': 112.6417327805847,\n",
       "  'x': 226.69533474072247},\n",
       " {'s': 3,\n",
       "  'cc': [159, 129, 255],\n",
       "  'y': 52.12850541350062,\n",
       "  'x': 52.60876737466917},\n",
       " {'s': 1,\n",
       "  'cc': [161, 60, 255],\n",
       "  'y': 41.294047647698584,\n",
       "  'x': 33.0566495522626},\n",
       " {'s': 3,\n",
       "  'cc': [154, 91, 255],\n",
       "  'y': 125.23337072723744,\n",
       "  'x': 164.48075454417128},\n",
       " {'s': 3,\n",
       "  'cc': [169, 231, 255],\n",
       "  'y': 79.19864242463309,\n",
       "  'x': 257.58198350191935},\n",
       " {'s': 2,\n",
       "  'cc': [15, 107, 255],\n",
       "  'y': 48.91021082964703,\n",
       "  'x': 216.09354427771842},\n",
       " {'s': 2,\n",
       "  'cc': [68, 41, 255],\n",
       "  'y': 63.32033697233682,\n",
       "  'x': 20.341923449055148},\n",
       " {'s': 1,\n",
       "  'cc': [124, 13, 255],\n",
       "  'y': 87.5374259633528,\n",
       "  'x': 4.0350643873253205},\n",
       " {'s': 3,\n",
       "  'cc': [205, 178, 255],\n",
       "  'y': 151.51426905250958,\n",
       "  'x': 399.95810506344213},\n",
       " {'s': 2,\n",
       "  'cc': [127, 143, 255],\n",
       "  'y': 67.50049714417382,\n",
       "  'x': 352.9459113626538},\n",
       " {'s': 2,\n",
       "  'cc': [57, 253, 255],\n",
       "  'y': 112.6417327805847,\n",
       "  'x': 226.69533474072247},\n",
       " {'s': 3,\n",
       "  'cc': [159, 129, 255],\n",
       "  'y': 52.12850541350062,\n",
       "  'x': 52.60876737466917},\n",
       " {'s': 1,\n",
       "  'cc': [161, 60, 255],\n",
       "  'y': 41.294047647698584,\n",
       "  'x': 33.0566495522626},\n",
       " {'s': 3,\n",
       "  'cc': [154, 91, 255],\n",
       "  'y': 125.23337072723744,\n",
       "  'x': 164.48075454417128},\n",
       " {'s': 3,\n",
       "  'cc': [169, 231, 255],\n",
       "  'y': 79.19864242463309,\n",
       "  'x': 257.58198350191935}]"
      ]
     },
     "execution_count": 24,
     "metadata": {},
     "output_type": "execute_result"
    }
   ],
   "source": [
    "circles"
   ]
  },
  {
   "cell_type": "code",
   "execution_count": null,
   "metadata": {},
   "outputs": [],
   "source": []
  }
 ],
 "metadata": {
  "kernelspec": {
   "display_name": "Python 3",
   "language": "python",
   "name": "python3"
  },
  "language_info": {
   "codemirror_mode": {
    "name": "ipython",
    "version": 3
   },
   "file_extension": ".py",
   "mimetype": "text/x-python",
   "name": "python",
   "nbconvert_exporter": "python",
   "pygments_lexer": "ipython3",
   "version": "3.7.5"
  }
 },
 "nbformat": 4,
 "nbformat_minor": 2
}
